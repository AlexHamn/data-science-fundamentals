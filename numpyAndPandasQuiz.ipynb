{
 "cells": [
  {
   "cell_type": "markdown",
   "metadata": {},
   "source": [
    "# Quiz - Numpy & Pandas\n",
    "Type:Practice Quiz\n",
    "\n",
    "Attempts:0/1\n",
    "\n",
    "Questions:10\n",
    "\n",
    "Time:30m\n",
    "\n",
    "Total Marks:10\n",
    "\n",
    "Instructions:\n",
    "\n",
    "- Please refer to the Dateset_ODI - Dateset_ODI.csv dataset to attempt the quiz. Questions from 5 to 10 require working on this dataset. Please make sure to import the dataset into your Jupyter notebook before starting the quiz.\n",
    "- Only attempt the quiz when you are prepared and have enough time on your hand to finish it.\n",
    "- The quiz once opened, must be completed within the time frame provided. You CANNOT start the quiz, leave it unattended for an extended period of time and come back later to finish.\n",
    "- Ensure there is a proper internet connection while taking up the quiz. Any breakup in the connection will automatically submit your quiz.\n",
    "- Re-attempts will be provided if the quiz gets submitted for any of the above-mentioned reasons.\n",
    "- If you face any other technical issues on Olympus, please share the screenshot with your Program Manager so that the team can understand and resolve it on priority.\n"
   ]
  },
  {
   "cell_type": "markdown",
   "metadata": {},
   "source": [
    "Question 1\n",
    "1 Mark\n",
    "\n",
    "What will be the output of the below code?"
   ]
  },
  {
   "cell_type": "code",
   "execution_count": 37,
   "metadata": {},
   "outputs": [
    {
     "data": {
      "text/plain": [
       "array([  1, 100,   4,   0])"
      ]
     },
     "execution_count": 37,
     "metadata": {},
     "output_type": "execute_result"
    }
   ],
   "source": [
    "import numpy as np\n",
    "a = np.array([1, 10, 2, 0])\n",
    "np.power(a, 2)"
   ]
  },
  {
   "cell_type": "markdown",
   "metadata": {},
   "source": [
    "[ 1, 10, 2, 0]\n",
    "\n",
    "- [ 1, 100, 4, 0]\n",
    "\n",
    "[ 1, 1000, 8, 0]\n",
    "\n",
    "None"
   ]
  },
  {
   "cell_type": "markdown",
   "metadata": {},
   "source": [
    "Question 2\n",
    "1 Mark\n",
    "\n",
    "Consider the following code:"
   ]
  },
  {
   "cell_type": "code",
   "execution_count": 38,
   "metadata": {},
   "outputs": [
    {
     "data": {
      "text/plain": [
       "'l'"
      ]
     },
     "execution_count": 38,
     "metadata": {},
     "output_type": "execute_result"
    }
   ],
   "source": [
    "import numpy as np\n",
    "a = np.array([['m', 'l'],['n', 'o']])\n",
    "a[0,1]"
   ]
  },
  {
   "cell_type": "markdown",
   "metadata": {},
   "source": [
    "What will be the value of a[0,1]?\n",
    "\n",
    "- 'l'\n",
    "\n",
    "'m'\n",
    "\n",
    "'n'\n",
    "\n",
    "'o'"
   ]
  },
  {
   "cell_type": "markdown",
   "metadata": {},
   "source": [
    "Question 3\n",
    "1 Mark\n",
    "\n",
    "Consider the following code:"
   ]
  },
  {
   "cell_type": "code",
   "execution_count": 39,
   "metadata": {},
   "outputs": [
    {
     "data": {
      "text/plain": [
       "[array([0, 1, 2, 3, 4]), array([5, 6, 7, 8, 9])]"
      ]
     },
     "execution_count": 39,
     "metadata": {},
     "output_type": "execute_result"
    }
   ],
   "source": [
    "import numpy as np\n",
    "array = np.arange(10) \n",
    "np.hsplit(array, 2)"
   ]
  },
  {
   "cell_type": "markdown",
   "metadata": {},
   "source": [
    "Which of the following code would give the below output?\n",
    "\n",
    "`[array([0, 1, 2, 3, 4]), array([5, 6, 7, 8, 9])]`"
   ]
  },
  {
   "cell_type": "markdown",
   "metadata": {},
   "source": [
    "np.vsplit(array, 2)\n",
    "\n",
    "- np.hsplit(array, 2)\n",
    "\n",
    "np.hsplit(array)\n",
    "\n",
    "np.hsplit(array, 4)"
   ]
  },
  {
   "cell_type": "markdown",
   "metadata": {},
   "source": [
    "Question 4\n",
    "1 Mark\n",
    "\n",
    "What will be the output of the following code?"
   ]
  },
  {
   "cell_type": "code",
   "execution_count": 40,
   "metadata": {},
   "outputs": [
    {
     "ename": "ValueError",
     "evalue": "operands could not be broadcast together with shapes (5,) (6,) ",
     "output_type": "error",
     "traceback": [
      "\u001b[0;31m---------------------------------------------------------------------------\u001b[0m",
      "\u001b[0;31mValueError\u001b[0m                                Traceback (most recent call last)",
      "\u001b[0;32m<ipython-input-40-e8164404fafd>\u001b[0m in \u001b[0;36m<module>\u001b[0;34m\u001b[0m\n\u001b[1;32m      2\u001b[0m \u001b[0marray1\u001b[0m \u001b[0;34m=\u001b[0m \u001b[0mnp\u001b[0m\u001b[0;34m.\u001b[0m\u001b[0marray\u001b[0m\u001b[0;34m(\u001b[0m\u001b[0;34m[\u001b[0m\u001b[0;36m1\u001b[0m\u001b[0;34m,\u001b[0m \u001b[0;36m0\u001b[0m\u001b[0;34m,\u001b[0m \u001b[0;36m0\u001b[0m\u001b[0;34m,\u001b[0m \u001b[0;36m1\u001b[0m\u001b[0;34m,\u001b[0m \u001b[0;36m0\u001b[0m\u001b[0;34m]\u001b[0m\u001b[0;34m)\u001b[0m\u001b[0;34m\u001b[0m\u001b[0;34m\u001b[0m\u001b[0m\n\u001b[1;32m      3\u001b[0m \u001b[0marray2\u001b[0m \u001b[0;34m=\u001b[0m \u001b[0mnp\u001b[0m\u001b[0;34m.\u001b[0m\u001b[0marange\u001b[0m\u001b[0;34m(\u001b[0m\u001b[0;36m6\u001b[0m\u001b[0;34m)\u001b[0m\u001b[0;34m\u001b[0m\u001b[0;34m\u001b[0m\u001b[0m\n\u001b[0;32m----> 4\u001b[0;31m \u001b[0marray1\u001b[0m \u001b[0;34m+\u001b[0m \u001b[0marray2\u001b[0m\u001b[0;34m\u001b[0m\u001b[0;34m\u001b[0m\u001b[0m\n\u001b[0m",
      "\u001b[0;31mValueError\u001b[0m: operands could not be broadcast together with shapes (5,) (6,) "
     ]
    }
   ],
   "source": [
    "import numpy as np\n",
    "array1 = np.array([1, 0, 0, 1, 0])\n",
    "array2 = np.arange(6)\n",
    "array1 + array2"
   ]
  },
  {
   "cell_type": "markdown",
   "metadata": {},
   "source": [
    "array([1, 1, 2, 4, 4])\n",
    "\n",
    "- Error\n",
    "\n",
    "array([2, 0, 0, 2, 0])\n",
    "\n",
    "array([2, 0, 0, 2, 0, 0])"
   ]
  },
  {
   "cell_type": "markdown",
   "metadata": {},
   "source": [
    "Question 5\n",
    "1 Mark\n",
    "\n",
    "State whether the following statement is True or False:\n",
    "\n",
    "All the columns in the dataset ODI are of 'object' data type.\n"
   ]
  },
  {
   "cell_type": "code",
   "execution_count": null,
   "metadata": {},
   "outputs": [
    {
     "name": "stdout",
     "output_type": "stream",
     "text": [
      "<class 'pandas.core.frame.DataFrame'>\n",
      "RangeIndex: 3932 entries, 0 to 3931\n",
      "Data columns (total 7 columns):\n",
      " #   Column      Non-Null Count  Dtype \n",
      "---  ------      --------------  ----- \n",
      " 0   Scorecard   3932 non-null   object\n",
      " 1   Team 1      3932 non-null   object\n",
      " 2   Team 2      3932 non-null   object\n",
      " 3   Winner      3932 non-null   object\n",
      " 4   Margin      3753 non-null   object\n",
      " 5   Ground      3932 non-null   object\n",
      " 6   Match Date  3932 non-null   object\n",
      "dtypes: object(7)\n",
      "memory usage: 215.2+ KB\n"
     ]
    }
   ],
   "source": [
    "import pandas as pd\n",
    "df = pd.read_csv('./data/Dateset_ODI+-+Dateset_ODI.csv')\n",
    "df.info()"
   ]
  },
  {
   "cell_type": "markdown",
   "metadata": {},
   "source": [
    "Answer choices\n",
    "Select only one option\n",
    "\n",
    "- True\n",
    "\n",
    "False"
   ]
  },
  {
   "cell_type": "markdown",
   "metadata": {},
   "source": [
    "Question 6\n",
    "1 Mark\n",
    "\n",
    "Consider the below statements and select the correct option.\n",
    "\n",
    "1. There are no missing values in the dataset ODI\n",
    "2. Only 2 columns - ' Margin' and 'Winner' have missing values\n",
    "3. The 'Margin' column has 179 missing values"
   ]
  },
  {
   "cell_type": "code",
   "execution_count": null,
   "metadata": {},
   "outputs": [
    {
     "data": {
      "text/html": [
       "<div>\n",
       "<style scoped>\n",
       "    .dataframe tbody tr th:only-of-type {\n",
       "        vertical-align: middle;\n",
       "    }\n",
       "\n",
       "    .dataframe tbody tr th {\n",
       "        vertical-align: top;\n",
       "    }\n",
       "\n",
       "    .dataframe thead th {\n",
       "        text-align: right;\n",
       "    }\n",
       "</style>\n",
       "<table border=\"1\" class=\"dataframe\">\n",
       "  <thead>\n",
       "    <tr style=\"text-align: right;\">\n",
       "      <th></th>\n",
       "      <th>Total</th>\n",
       "      <th>Percent</th>\n",
       "    </tr>\n",
       "  </thead>\n",
       "  <tbody>\n",
       "    <tr>\n",
       "      <th>Margin</th>\n",
       "      <td>179</td>\n",
       "      <td>0.045524</td>\n",
       "    </tr>\n",
       "    <tr>\n",
       "      <th>Scorecard</th>\n",
       "      <td>0</td>\n",
       "      <td>0.000000</td>\n",
       "    </tr>\n",
       "    <tr>\n",
       "      <th>Team 1</th>\n",
       "      <td>0</td>\n",
       "      <td>0.000000</td>\n",
       "    </tr>\n",
       "    <tr>\n",
       "      <th>Team 2</th>\n",
       "      <td>0</td>\n",
       "      <td>0.000000</td>\n",
       "    </tr>\n",
       "    <tr>\n",
       "      <th>Winner</th>\n",
       "      <td>0</td>\n",
       "      <td>0.000000</td>\n",
       "    </tr>\n",
       "    <tr>\n",
       "      <th>Ground</th>\n",
       "      <td>0</td>\n",
       "      <td>0.000000</td>\n",
       "    </tr>\n",
       "    <tr>\n",
       "      <th>Match Date</th>\n",
       "      <td>0</td>\n",
       "      <td>0.000000</td>\n",
       "    </tr>\n",
       "  </tbody>\n",
       "</table>\n",
       "</div>"
      ],
      "text/plain": [
       "            Total   Percent\n",
       "Margin        179  0.045524\n",
       "Scorecard       0  0.000000\n",
       "Team 1          0  0.000000\n",
       "Team 2          0  0.000000\n",
       "Winner          0  0.000000\n",
       "Ground          0  0.000000\n",
       "Match Date      0  0.000000"
      ]
     },
     "execution_count": 13,
     "metadata": {},
     "output_type": "execute_result"
    }
   ],
   "source": [
    "def missing_check(df):\n",
    "    total = df.isnull().sum().sort_values(ascending=False)   # total number of null values\n",
    "    percent = (df.isnull().sum()/df.isnull().count()).sort_values(ascending=False)  # percentage of values that are null\n",
    "    missing_data = pd.concat([total, percent], axis=1, keys=['Total', 'Percent'])  # putting the above two together\n",
    "    return missing_data # return the dataframe\n",
    "missing_check(df)"
   ]
  },
  {
   "cell_type": "markdown",
   "metadata": {},
   "source": [
    "Answer choices\n",
    "Select only one option\n",
    "\n",
    "2 and 3 are correct\n",
    "\n",
    "Only 1 is correct\n",
    "\n",
    "- Only 3 is correct\n",
    "\n",
    "Only 2 is correct"
   ]
  },
  {
   "cell_type": "markdown",
   "metadata": {},
   "source": [
    "Question 7\n",
    "1 Mark\n",
    "Which team had won the 50th ODI match?"
   ]
  },
  {
   "cell_type": "code",
   "execution_count": null,
   "metadata": {},
   "outputs": [
    {
     "data": {
      "text/plain": [
       "Scorecard         ODI # 51\n",
       "Team 1             England\n",
       "Team 2            Pakistan\n",
       "Winner             England\n",
       "Margin             94 runs\n",
       "Ground            The Oval\n",
       "Match Date    May 26, 1978\n",
       "Name: 50, dtype: object"
      ]
     },
     "execution_count": 15,
     "metadata": {},
     "output_type": "execute_result"
    }
   ],
   "source": [
    "df.iloc[50]"
   ]
  },
  {
   "cell_type": "markdown",
   "metadata": {},
   "source": [
    "Answer choices\n",
    "Select only one option\n",
    "\n",
    "- England\n",
    "\n",
    "Pakistan\n",
    "\n",
    "New Zealand\n",
    "\n",
    "Australia"
   ]
  },
  {
   "cell_type": "markdown",
   "metadata": {},
   "source": [
    "Question 8\n",
    "1 Mark\n",
    "How many ODI matches have been played at the 'Devonport' ground?"
   ]
  },
  {
   "cell_type": "code",
   "execution_count": 47,
   "metadata": {},
   "outputs": [
    {
     "data": {
      "text/html": [
       "<div>\n",
       "<style scoped>\n",
       "    .dataframe tbody tr th:only-of-type {\n",
       "        vertical-align: middle;\n",
       "    }\n",
       "\n",
       "    .dataframe tbody tr th {\n",
       "        vertical-align: top;\n",
       "    }\n",
       "\n",
       "    .dataframe thead th {\n",
       "        text-align: right;\n",
       "    }\n",
       "</style>\n",
       "<table border=\"1\" class=\"dataframe\">\n",
       "  <thead>\n",
       "    <tr style=\"text-align: right;\">\n",
       "      <th></th>\n",
       "      <th>Scorecard</th>\n",
       "      <th>Team 1</th>\n",
       "      <th>Team 2</th>\n",
       "      <th>Winner</th>\n",
       "      <th>Margin</th>\n",
       "      <th>Ground</th>\n",
       "      <th>Match Date</th>\n",
       "    </tr>\n",
       "  </thead>\n",
       "  <tbody>\n",
       "    <tr>\n",
       "      <th>429</th>\n",
       "      <td>ODI # 430</td>\n",
       "      <td>England</td>\n",
       "      <td>West Indies</td>\n",
       "      <td>England</td>\n",
       "      <td>29 runs</td>\n",
       "      <td>Devonport</td>\n",
       "      <td>Feb 3, 1987</td>\n",
       "    </tr>\n",
       "  </tbody>\n",
       "</table>\n",
       "</div>"
      ],
      "text/plain": [
       "     Scorecard   Team 1       Team 2   Winner   Margin     Ground   Match Date\n",
       "429  ODI # 430  England  West Indies  England  29 runs  Devonport  Feb 3, 1987"
      ]
     },
     "execution_count": 47,
     "metadata": {},
     "output_type": "execute_result"
    }
   ],
   "source": [
    "df[df['Ground']=='Devonport']"
   ]
  },
  {
   "cell_type": "markdown",
   "metadata": {},
   "source": [
    "5\n",
    "\n",
    "9\n",
    "\n",
    "1\n",
    "\n",
    "4"
   ]
  },
  {
   "cell_type": "markdown",
   "metadata": {},
   "source": [
    "Question 9\n",
    "1 Mark\n",
    "How many times the team Australia has won the ODI matches?"
   ]
  },
  {
   "cell_type": "code",
   "execution_count": null,
   "metadata": {},
   "outputs": [
    {
     "data": {
      "text/plain": [
       "555"
      ]
     },
     "execution_count": 34,
     "metadata": {},
     "output_type": "execute_result"
    }
   ],
   "source": [
    "(df['Winner']=='Australia').sum()"
   ]
  },
  {
   "cell_type": "markdown",
   "metadata": {},
   "source": [
    "440\n",
    "\n",
    "696\n",
    "\n",
    "95\n",
    "\n",
    "555"
   ]
  },
  {
   "cell_type": "markdown",
   "metadata": {},
   "source": [
    "Question 10\n",
    "1 Mark\n",
    "How many times the second team, i.e., 'Team 2' has won the ODI match?"
   ]
  },
  {
   "cell_type": "code",
   "execution_count": null,
   "metadata": {},
   "outputs": [
    {
     "data": {
      "text/plain": [
       "1637"
      ]
     },
     "execution_count": 35,
     "metadata": {},
     "output_type": "execute_result"
    }
   ],
   "source": [
    "(df['Team 2']==df['Winner']).sum()"
   ]
  },
  {
   "cell_type": "markdown",
   "metadata": {},
   "source": [
    "Answer choices\n",
    "Select only one option\n",
    "\n",
    "1598\n",
    "\n",
    "1637\n",
    "\n",
    "1789\n",
    "\n",
    "1865"
   ]
  }
 ],
 "metadata": {
  "interpreter": {
   "hash": "916dbcbb3f70747c44a77c7bcd40155683ae19c65e1c03b4aa3499c5328201f1"
  },
  "kernelspec": {
   "display_name": "Python 3.8.10 64-bit",
   "language": "python",
   "name": "python3"
  },
  "language_info": {
   "codemirror_mode": {
    "name": "ipython",
    "version": 3
   },
   "file_extension": ".py",
   "mimetype": "text/x-python",
   "name": "python",
   "nbconvert_exporter": "python",
   "pygments_lexer": "ipython3",
   "version": "3.8.10"
  },
  "orig_nbformat": 4
 },
 "nbformat": 4,
 "nbformat_minor": 2
}
