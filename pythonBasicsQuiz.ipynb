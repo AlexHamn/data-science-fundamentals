{
 "cells": [
  {
   "cell_type": "markdown",
   "metadata": {},
   "source": [
    "# Quiz - Python Basics"
   ]
  },
  {
   "cell_type": "markdown",
   "metadata": {},
   "source": [
    "Question 1\n",
    "1 Mark\n",
    "\n",
    "What will be the output of the following code?"
   ]
  },
  {
   "cell_type": "code",
   "execution_count": 1,
   "metadata": {},
   "outputs": [
    {
     "name": "stdout",
     "output_type": "stream",
     "text": [
      "3\n"
     ]
    }
   ],
   "source": [
    "x=y=z=1\n",
    "print(x+y+z)"
   ]
  },
  {
   "cell_type": "markdown",
   "metadata": {},
   "source": [
    "00:19:06\n",
    "Question 2\n",
    "1 Mark\n",
    "\n",
    "What will the value of the variable b?"
   ]
  },
  {
   "cell_type": "code",
   "execution_count": 3,
   "metadata": {},
   "outputs": [
    {
     "data": {
      "text/plain": [
       "'Great'"
      ]
     },
     "execution_count": 3,
     "metadata": {},
     "output_type": "execute_result"
    }
   ],
   "source": [
    "a='Great'\n",
    "b='Learning'\n",
    "b=a\n",
    "b"
   ]
  },
  {
   "cell_type": "markdown",
   "metadata": {},
   "source": [
    "Question 3\n",
    "1 Mark\n",
    "Which in-built function is used to find the data type of a variable in Python?"
   ]
  },
  {
   "cell_type": "code",
   "execution_count": 4,
   "metadata": {},
   "outputs": [
    {
     "data": {
      "text/plain": [
       "str"
      ]
     },
     "execution_count": 4,
     "metadata": {},
     "output_type": "execute_result"
    }
   ],
   "source": [
    "type(b)"
   ]
  },
  {
   "cell_type": "markdown",
   "metadata": {},
   "source": [
    "Question 4\n",
    "1 Mark\n",
    "\n",
    "Let there be a string S:\n",
    "\n",
    "S='Great Learning'\n",
    "\n",
    "Select the line of code that will give the output 'Great'.\n",
    "\n",
    "    S[: 5]\n",
    "    S[0: 5]\n",
    "    S[5]\n",
    "    S[:]\n",
    "\n",
    "(1 and 2)\n"
   ]
  },
  {
   "cell_type": "code",
   "execution_count": 7,
   "metadata": {},
   "outputs": [
    {
     "name": "stdout",
     "output_type": "stream",
     "text": [
      "Great ... Great ...   ... Great Learning\n"
     ]
    }
   ],
   "source": [
    "S='Great Learning'\n",
    "print(S[: 5], '...', S[0: 5], '...', S[5], '...', S[:])"
   ]
  },
  {
   "cell_type": "markdown",
   "metadata": {},
   "source": [
    "Question 5\n",
    "1 Mark\n",
    "Which data type (int/str/float) will be used to denote 1289.0 type of value?\n",
    "\n",
    "=float"
   ]
  },
  {
   "cell_type": "markdown",
   "metadata": {},
   "source": [
    "Question 6\n",
    "1 Mark\n",
    "\n",
    "If a=5, b=10 and c=a+b=15;\n",
    "\n",
    "Here, a and b are referred to as:\n"
   ]
  },
  {
   "cell_type": "markdown",
   "metadata": {},
   "source": [
    "Boolean\n",
    "\n",
    "- Variables\n",
    "\n",
    "Data type\n",
    "\n",
    "None of these"
   ]
  },
  {
   "cell_type": "markdown",
   "metadata": {},
   "source": [
    "Question 7\n",
    "1 Mark\n",
    "\n",
    "A list can be a collection of _____ \n",
    "\n",
    "    Integer\n",
    "    String\n",
    "    Float\n",
    "    Other lists\n",
    "\n"
   ]
  },
  {
   "cell_type": "markdown",
   "metadata": {},
   "source": [
    "Only 1\n",
    "\n",
    "1 and 3\n",
    "\n",
    "2 and 4\n",
    "\n",
    "- All of the above"
   ]
  },
  {
   "cell_type": "markdown",
   "metadata": {},
   "source": [
    "Question 8\n",
    "1 Mark\n",
    "Select the correct line of code to input a variable as an integer?"
   ]
  },
  {
   "cell_type": "markdown",
   "metadata": {},
   "source": [
    "input()\n",
    "\n",
    "- int(input())\n",
    "\n",
    "input(int())\n",
    "\n",
    "All of these"
   ]
  },
  {
   "cell_type": "markdown",
   "metadata": {},
   "source": [
    "Question 9\n",
    "1 Mark\n",
    "\n",
    "State whether the statement is True or False.\n",
    "\n",
    "** is the arithmetic operator in python that is used to calculate exponents.\n"
   ]
  },
  {
   "cell_type": "markdown",
   "metadata": {},
   "source": [
    "- True\n",
    "\n",
    "False"
   ]
  },
  {
   "cell_type": "markdown",
   "metadata": {},
   "source": [
    "Question 10\n",
    "1 Mark\n",
    "Loops are:"
   ]
  },
  {
   "cell_type": "markdown",
   "metadata": {},
   "source": [
    "constructs that enable you to run a piece of code once\n",
    "\n",
    "functions that run the code for each element in a sequence beginning with the 1st element\n",
    "\n",
    "more than five in number in Python\n",
    "\n",
    "- constructs that enable you to run the same piece of code many times"
   ]
  }
 ],
 "metadata": {
  "interpreter": {
   "hash": "916dbcbb3f70747c44a77c7bcd40155683ae19c65e1c03b4aa3499c5328201f1"
  },
  "kernelspec": {
   "display_name": "Python 3.8.10 64-bit",
   "language": "python",
   "name": "python3"
  },
  "language_info": {
   "codemirror_mode": {
    "name": "ipython",
    "version": 3
   },
   "file_extension": ".py",
   "mimetype": "text/x-python",
   "name": "python",
   "nbconvert_exporter": "python",
   "pygments_lexer": "ipython3",
   "version": "3.8.10"
  },
  "orig_nbformat": 4
 },
 "nbformat": 4,
 "nbformat_minor": 2
}
