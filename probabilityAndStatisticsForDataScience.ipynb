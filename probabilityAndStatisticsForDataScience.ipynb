{
 "cells": [
  {
   "cell_type": "markdown",
   "metadata": {},
   "source": [
    "# Probability and statistics for data science\n",
    "## Probability-Meaning & Concepts\n",
    "- **Probability** refers to the *chance or likelihood* of a particular event-taking place.\n",
    "- An **event** is a collection of outcomes of an experiment.\n",
    "- An **experiment** is a process that is performed to understand and\n",
    "observe possible outcomes.\n",
    "- Set of all outcomes of an *experiment* is called the **sample space**."
   ]
  },
  {
   "cell_type": "markdown",
   "metadata": {},
   "source": [
    "### Example\n",
    "In a manufacturing unit *three parts* from the assembly are selected.\n",
    "You are observing whether they are *defective or non-defective*.\n",
    "Determine\n",
    "\n",
    "a) The *sample space*.\n",
    "\n",
    "b) The event of *getting at least two defective parts*."
   ]
  },
  {
   "cell_type": "markdown",
   "metadata": {},
   "source": [
    "#### Solution\n",
    "a) Let $S = Sample Space$. It is pictured as:\n",
    "\n",
    "<figure>\n",
    "    <img src=\"./media/sample_space.png\" maxHeight=400 maxWidth=400/>\n",
    "    <figcaption>Sample space.</figcaption>\n",
    "</figure>\n",
    "\n",
    "Where\n",
    "\n",
    "$D = Defective\\\\G = Non-Defective$\n",
    "\n",
    "b) Let $E$ denoteh the event of getting at least two defective parts. This implies that $E$ will contain two defectives, and three non-defectives. Looking at the sample space diagram above, $E = \\{GDD, DGD, DDG, DDD\\}$. It is easy to see that $E$ is a part of $S$ (commonly called a *subset of $S$*). Hence an event is always a subset of th esample space."
   ]
  },
  {
   "cell_type": "markdown",
   "metadata": {},
   "source": [
    "### Definition of Probability\n",
    "Probability of an event $A$ is defined as the ratio of two numbers $m$ and $n$. In symbols:\n",
    "\n",
    "$P(A) = \\frac{m}{n}$\n",
    "\n",
    "Where\n",
    "\n",
    "$m=$ number of ways taht are favorable to the occurrence of $A$.\n",
    "\n",
    "$n=$ the total numb er of outcomes of the experiment(all possible outcomes).\n",
    "\n",
    "> Note that $P(A)$ is aleways $\\ge 0$ and $\\le 1$.</br>$P(A)$ is a pure number."
   ]
  },
  {
   "cell_type": "markdown",
   "metadata": {},
   "source": [
    "### Extreme values of Probability\n",
    "The range with in whichprobability of an event lies can be best undestood by the following diagram. the glass shows three stages (empty, half full and full) to explain the properties of probability.\n",
    "\n",
    "<figure>\n",
    "    <img src=\"./media/probability_values.png\" maxHeight=400 maxWidth=400/>\n",
    "    <figcaption>Probablility values.</figcaption>\n",
    "</figure>"
   ]
  },
  {
   "cell_type": "markdown",
   "metadata": {},
   "source": [
    "### Mutually exclusive events\n",
    "Two events $A$ and $B$ are said to be murually exclusive if the occurrence of $A$ precludes the occurrence of $B$. For example, from a pack of cards, if you pick up one card at random and would like to know whether it is a King or a Queen. The selected card will be either a King of a Queen. It cannot be both a King and a Queen. If King occurs, Queen will not occur and viceversa.\n",
    "\n",
    "<figure>\n",
    "    <img src=\"./media/mutually_exclusive_events.png\" maxHeight=400 maxWidth=400/>\n",
    "    <figcaption>Mutually exclusive events.</figcaption>\n",
    "</figure>"
   ]
  },
  {
   "cell_type": "markdown",
   "metadata": {},
   "source": [
    "### Independent Events\n",
    "Two events $A$ and $B$ are said to be independent if the occurrence of $A$\n",
    "is in no way influenced by the occurrence of $B$. Likewise occurrence of\n",
    "$B$ is in no way influenced by the occurrence of $A$.\n",
    "\n",
    ">Mutually exclusive events are **not** independent."
   ]
  },
  {
   "cell_type": "markdown",
   "metadata": {},
   "source": [
    "## Rules for computing probability\n",
    "### Addition Rule\n",
    "\n",
    "  $P(A \\cup B) = P(A)+P(B)-P(A \\cap B)$\n",
    "\n",
    "Where\n",
    "\n",
    "$A \\cup B =$ A *union* B = A occurs, or B occurs, or both A and B simultaneously occur.\n",
    "\n",
    "$A \\cap B =$ A *intersection* B = A and B simultaneously occur.\n",
    "\n",
    "This rule says that the probability of the union of A ans B is determined by adding the probability of the events A and B and then substracting the probability of the intersection of the events A and B.\n",
    "\n",
    ">When A and B are mutually exclusive, A and B cannot simultaneously occur."
   ]
  },
  {
   "cell_type": "markdown",
   "metadata": {},
   "source": [
    "#### Example for Addition Rules\n",
    "From a pack of well-shuffled cards, a card is picked up at random.\n",
    "1. What is the probability that the selected card is a King or a Queen?\n",
    "\n",
    "<figure>\n",
    "    <img src=\"./media/probability_exercise1.png\" maxHeight=400 maxWidth=400/>\n",
    "    <figcaption>Diagram 1.</figcaption>\n",
    "</figure>\n",
    "\n",
    "Let\n",
    "\n",
    "$A=$ getting a King\n",
    "\n",
    "$B=$ getting a Queen\n",
    "\n",
    "There are 4 Kings and 4 Queens. The events are clearly mutually exclusive. \n",
    "\n",
    "Apply the formula:\n",
    "\n",
    "$P(A \\cup B) = P(A)+P(B)-P(A \\cap B) = \\frac{4}{52}+\\frac{4}{52}-0=\\frac{8}{52}=\\frac{2}{13}=0.15384615385=15.384615385\\%$\n",
    "\n",
    "2. What is the probability that the selected card is a King or a Diamond?\n",
    "\n",
    "<figure>\n",
    "    <img src=\"./media/probability_exercise2.png\" maxHeight=400 maxWidth=400/>\n",
    "    <figcaption>Diagram 1.</figcaption>\n",
    "</figure>\n",
    "\n",
    "There are a total of 52 cards in a pack out of which 4 are Kings and 13 are Diamonds.\n",
    "\n",
    "Let\n",
    "\n",
    "$A=$ getting a King\n",
    "\n",
    "$B=$ getting a Diamond\n",
    "\n",
    "The two events are **not** mutually exclusive because you can have a card which is both a King and a Diamond called King of DIamonds.\n",
    "\n",
    "$P(K \\cup U) = P(K)+P(D)-P(K \\cap D) = \\frac{4}{52}+\\frac{13}{52}-\\frac{1}{52}=\\frac{16}{52}=\\frac{4}{13}=0.307692308=30.7692308\\%$"
   ]
  },
  {
   "cell_type": "markdown",
   "metadata": {},
   "source": [
    "### Multiplication rule for independent events\n",
    "$P(A \\cap B) = P(A)*P(B)$\n",
    "\n",
    "Where\n",
    "\n",
    "$A \\cap B =$ A *intersection* B = A and B simultaneously occur.\n",
    "\n",
    "Thos rule says that when the two ecents A and B are independent, the probability of the simultaneous occurrence of A and B(also known as probability of intersection of A and B) equals the product of the probability of A and the probability of B.\n",
    "\n",
    ">Note that this rule can be extended to more than two events.\n",
    "\n",
    "#### Example\n",
    "The probability that you will get an A grade in Math si 0.7. THe probability that you will get an A in Marketing is 0.5. Assuming thes two courses are independent, compute the probability that you will get an A grade in both tehse subjects.\n",
    "\n",
    "Let\n",
    "\n",
    "$A=$ getting A grade in Math\n",
    "\n",
    "$B=$ getting A grade in Marketing\n",
    "\n",
    "It is given that A and B are independent.\n",
    "\n",
    "$P(A \\cap B) = P(A)*P(B) = 0.7*0.5 = 0.35 = 35\\%$\n"
   ]
  },
  {
   "cell_type": "markdown",
   "metadata": {},
   "source": [
    "### Multiplication rule for non independent events\n",
    "$P(A \\cap B) = P(A)*P(B/A)$\n",
    "\n",
    "Where\n",
    "\n",
    "$A \\cap B =$ A *intersection* B = A and B simultaneously occur.\n",
    "\n",
    "$B/A =$ The probability of B **given** A.\n",
    "\n",
    "This rule says that the probability of the intersection of the events A and B equals the procuct of the probability of A ad the probability of B given that A has happened or known to us, This is symbolized in the second term of the above expression as $P(B/A)*P(B/A)$ is called the conditional probability of B given the favct that A has happened.\n",
    "\n",
    ">We can also weithe $P(A \\cap B) = P(B)*P(A/B)$ if B has already happened."
   ]
  },
  {
   "cell_type": "markdown",
   "metadata": {},
   "source": [
    "#### Example\n",
    "From a pack of cards, 2 cards are drawn in succession one after the other, After every dras, the selected card is not replaced. What is the probability that in both the draws you will get spades?\n",
    "\n",
    "Let\n",
    "\n",
    "$A=$ getting Spades in the first draw\n",
    "\n",
    "$B=$ getting Spades in the second draw\n",
    "\n",
    ">This situatuin requires the use of conditional probabbility."
   ]
  },
  {
   "cell_type": "markdown",
   "metadata": {},
   "source": [
    "$P(A) = \\frac{13}{52}$ (There are 13 Spades and 52 cards in a pack)\n",
    "\n",
    "$P(B) = \\frac{12}{51}$ (There are 12 Spades and 51 cards, because the first card selected os not replaced after the first draw)\n",
    "\n",
    "$P(A \\cap B) = P(A)*P(B/A) = \\frac{13}{52} * \\frac{12}{51} = \\frac{156}{2652} = \\frac{1}{17} = 0.058823529 = 5.8823529\\%$"
   ]
  },
  {
   "cell_type": "markdown",
   "metadata": {},
   "source": [
    "## Marginal Probability\n",
    "**A contingency table** consists of rows and columns of two attributes at\n",
    "different levels with frequencies or numbers in each of the cells. It is\n",
    "a matrix of frequencies assigned to rows and columns.\n",
    "\n",
    "The term marginal is used to indicate that the probabilities are\n",
    "calculated using a contingency table (also called *joint probability\n",
    "table*).\n",
    "\n",
    "#### Example\n",
    "A survey involving 200 families was conducted. Information regarding family income per year and whether the family buys a car are given in the following table.\n",
    "\n",
    "|Family|Income $>$ $20K|Income $\\ge$ $20K|Total|\n",
    "|---|---|---|---|\n",
    "|Buyer|38|42|80|\n",
    "|Non-Buyer|82|38|120|\n",
    "|Total|120|80|200|\n",
    "\n",
    "1. What is the probability that a randomly selected family is a buyer of a car?\n",
    "\n",
    "$\\frac{80}{200} = 0.4 = 40\\%$ (Marginal)\n",
    "\n",
    "2. What is the probability that a randomly selected family is both a buyer of a car and belonging to income of $20000 and above?\n",
    "\n",
    "$\\frac{42}{200} = 0.21 = 21\\%$ (Joint)\n",
    "\n",
    "3. A family selected at random is found to be belonging to income of $ 20K and above. What is the probability that this family is buyer of car?\n",
    "\n",
    "$\\frac{42}{80} = 0.525 = 52.5\\%$ (Conditional)"
   ]
  }
 ],
 "metadata": {
  "interpreter": {
   "hash": "916dbcbb3f70747c44a77c7bcd40155683ae19c65e1c03b4aa3499c5328201f1"
  },
  "kernelspec": {
   "display_name": "Python 3.8.10 64-bit",
   "language": "python",
   "name": "python3"
  },
  "language_info": {
   "name": "python",
   "version": "3.8.10"
  },
  "orig_nbformat": 4
 },
 "nbformat": 4,
 "nbformat_minor": 2
}
